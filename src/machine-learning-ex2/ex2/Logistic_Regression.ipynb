{
 "cells": [
  {
   "cell_type": "code",
   "execution_count": 2,
   "metadata": {
    "collapsed": false
   },
   "outputs": [],
   "source": [
    "%matplotlib inline\n",
    "import numpy as np"
   ]
  },
  {
   "cell_type": "code",
   "execution_count": 1,
   "metadata": {
    "collapsed": false
   },
   "outputs": [
    {
     "ename": "ImportError",
     "evalue": "C extension: No module named dateutil.tz not built. If you want to import pandas from the source directory, you may need to run 'python setup.py build_ext --inplace' to build the C extensions first.",
     "output_type": "error",
     "traceback": [
      "\u001b[0;31m---------------------------------------------------------------------------\u001b[0m",
      "\u001b[0;31mImportError\u001b[0m                               Traceback (most recent call last)",
      "\u001b[0;32m<ipython-input-1-af55e7023913>\u001b[0m in \u001b[0;36m<module>\u001b[0;34m()\u001b[0m\n\u001b[0;32m----> 1\u001b[0;31m \u001b[1;32mimport\u001b[0m \u001b[0mpandas\u001b[0m \u001b[1;32mas\u001b[0m \u001b[0mpd\u001b[0m\u001b[1;33m\u001b[0m\u001b[0m\n\u001b[0m",
      "\u001b[0;32mC:\\Python27\\lib\\site-packages\\pandas\\__init__.py\u001b[0m in \u001b[0;36m<module>\u001b[0;34m()\u001b[0m\n\u001b[1;32m     11\u001b[0m                       \u001b[1;34m\"pandas from the source directory, you may need to run \"\u001b[0m\u001b[1;33m\u001b[0m\u001b[0m\n\u001b[1;32m     12\u001b[0m                       \u001b[1;34m\"'python setup.py build_ext --inplace' to build the C \"\u001b[0m\u001b[1;33m\u001b[0m\u001b[0m\n\u001b[0;32m---> 13\u001b[0;31m                       \"extensions first.\".format(module))\n\u001b[0m\u001b[1;32m     14\u001b[0m \u001b[1;33m\u001b[0m\u001b[0m\n\u001b[1;32m     15\u001b[0m \u001b[1;32mfrom\u001b[0m \u001b[0mdatetime\u001b[0m \u001b[1;32mimport\u001b[0m \u001b[0mdatetime\u001b[0m\u001b[1;33m\u001b[0m\u001b[0m\n",
      "\u001b[0;31mImportError\u001b[0m: C extension: No module named dateutil.tz not built. If you want to import pandas from the source directory, you may need to run 'python setup.py build_ext --inplace' to build the C extensions first."
     ]
    }
   ],
   "source": [
    "import pandas as pd"
   ]
  },
  {
   "cell_type": "code",
   "execution_count": 4,
   "metadata": {
    "collapsed": true
   },
   "outputs": [],
   "source": [
    "from matplotlib import pyplot as plt"
   ]
  },
  {
   "cell_type": "code",
   "execution_count": 5,
   "metadata": {
    "collapsed": true
   },
   "outputs": [],
   "source": [
    "df = pd.read_csv('ex2data1.txt', delimiter=',')"
   ]
  },
  {
   "cell_type": "code",
   "execution_count": 6,
   "metadata": {
    "collapsed": false
   },
   "outputs": [
    {
     "data": {
      "text/html": [
       "<div>\n",
       "<table border=\"1\" class=\"dataframe\">\n",
       "  <thead>\n",
       "    <tr style=\"text-align: right;\">\n",
       "      <th></th>\n",
       "      <th>X1</th>\n",
       "      <th>X2</th>\n",
       "      <th>Y</th>\n",
       "    </tr>\n",
       "  </thead>\n",
       "  <tbody>\n",
       "    <tr>\n",
       "      <th>0</th>\n",
       "      <td>34.623660</td>\n",
       "      <td>78.024693</td>\n",
       "      <td>0</td>\n",
       "    </tr>\n",
       "    <tr>\n",
       "      <th>1</th>\n",
       "      <td>30.286711</td>\n",
       "      <td>43.894998</td>\n",
       "      <td>0</td>\n",
       "    </tr>\n",
       "    <tr>\n",
       "      <th>2</th>\n",
       "      <td>35.847409</td>\n",
       "      <td>72.902198</td>\n",
       "      <td>0</td>\n",
       "    </tr>\n",
       "    <tr>\n",
       "      <th>3</th>\n",
       "      <td>60.182599</td>\n",
       "      <td>86.308552</td>\n",
       "      <td>1</td>\n",
       "    </tr>\n",
       "    <tr>\n",
       "      <th>4</th>\n",
       "      <td>79.032736</td>\n",
       "      <td>75.344376</td>\n",
       "      <td>1</td>\n",
       "    </tr>\n",
       "  </tbody>\n",
       "</table>\n",
       "</div>"
      ],
      "text/plain": [
       "          X1         X2  Y\n",
       "0  34.623660  78.024693  0\n",
       "1  30.286711  43.894998  0\n",
       "2  35.847409  72.902198  0\n",
       "3  60.182599  86.308552  1\n",
       "4  79.032736  75.344376  1"
      ]
     },
     "execution_count": 6,
     "metadata": {},
     "output_type": "execute_result"
    }
   ],
   "source": [
    "df.head()"
   ]
  },
  {
   "cell_type": "code",
   "execution_count": 7,
   "metadata": {
    "collapsed": false
   },
   "outputs": [
    {
     "name": "stdout",
     "output_type": "stream",
     "text": [
      "    0          1          2\n",
      "0   1  34.623660  78.024693\n",
      "1   1  30.286711  43.894998\n",
      "2   1  35.847409  72.902198\n",
      "3   1  60.182599  86.308552\n",
      "4   1  79.032736  75.344376\n",
      "5   1  45.083277  56.316372\n",
      "6   1  61.106665  96.511426\n",
      "7   1  75.024746  46.554014\n",
      "8   1  76.098787  87.420570\n",
      "9   1  84.432820  43.533393\n",
      "10  1  95.861555  38.225278\n",
      "11  1  75.013658  30.603263\n",
      "12  1  82.307053  76.481963\n",
      "13  1  69.364589  97.718692\n",
      "14  1  39.538339  76.036811\n",
      "15  1  53.971052  89.207350\n",
      "16  1  69.070144  52.740470\n",
      "17  1  67.946855  46.678574\n",
      "18  1  70.661510  92.927138\n",
      "19  1  76.978784  47.575964\n",
      "20  1  67.372028  42.838438\n",
      "21  1  89.676776  65.799366\n",
      "22  1  50.534788  48.855812\n",
      "23  1  34.212061  44.209529\n",
      "24  1  77.924091  68.972360\n",
      "25  1  62.271014  69.954458\n",
      "26  1  80.190181  44.821629\n",
      "27  1  93.114389  38.800670\n",
      "28  1  61.830206  50.256108\n",
      "29  1  38.785804  64.995681\n",
      ".. ..        ...        ...\n",
      "70  1  32.722833  43.307173\n",
      "71  1  64.039320  78.031688\n",
      "72  1  72.346494  96.227593\n",
      "73  1  60.457886  73.094998\n",
      "74  1  58.840956  75.858448\n",
      "75  1  99.827858  72.369252\n",
      "76  1  47.264269  88.475865\n",
      "77  1  50.458160  75.809860\n",
      "78  1  60.455556  42.508409\n",
      "79  1  82.226662  42.719879\n",
      "80  1  88.913896  69.803789\n",
      "81  1  94.834507  45.694307\n",
      "82  1  67.319257  66.589353\n",
      "83  1  57.238706  59.514282\n",
      "84  1  80.366756  90.960148\n",
      "85  1  68.468522  85.594307\n",
      "86  1  42.075455  78.844786\n",
      "87  1  75.477702  90.424539\n",
      "88  1  78.635424  96.647427\n",
      "89  1  52.348004  60.769505\n",
      "90  1  94.094331  77.159105\n",
      "91  1  90.448551  87.508792\n",
      "92  1  55.482161  35.570703\n",
      "93  1  74.492692  84.845137\n",
      "94  1  89.845807  45.358284\n",
      "95  1  83.489163  48.380286\n",
      "96  1  42.261701  87.103851\n",
      "97  1  99.315009  68.775409\n",
      "98  1  55.340018  64.931938\n",
      "99  1  74.775893  89.529813\n",
      "\n",
      "[100 rows x 3 columns]\n"
     ]
    }
   ],
   "source": [
    "I = np.ones(df['X1'].size)\n",
    "X = pd.DataFrame([I, df['X1'], df['X2']]).transpose()\n",
    "y = df['Y']\n",
    "print X"
   ]
  },
  {
   "cell_type": "code",
   "execution_count": 8,
   "metadata": {
    "collapsed": false
   },
   "outputs": [
    {
     "data": {
      "image/png": "[encoded data removed]",
      "text/plain": [
       "<matplotlib.figure.Figure at 0x7ec56a0>"
      ]
     },
     "metadata": {},
     "output_type": "display_data"
    }
   ],
   "source": [
    "plt.scatter(df['X1'], range(df['X1'].size),color='yellow')\n",
    "plt.scatter(df['X2'], range(df['X2'].size),color='brown')\n",
    "plt.xticks()\n",
    "plt.yticks()\n",
    "plt.show()"
   ]
  },
  {
   "cell_type": "code",
   "execution_count": 9,
   "metadata": {
    "collapsed": false
   },
   "outputs": [
    {
     "data": {
      "image/png": "[encoded data removed]",
      "text/plain": [
       "<matplotlib.figure.Figure at 0x81f6e80>"
      ]
     },
     "metadata": {},
     "output_type": "display_data"
    }
   ],
   "source": [
    "def plotGraph(df):\n",
    "    pos1, neg1 = [], []\n",
    "    pos2, neg2 = [], []\n",
    "    for x1,x2 in df.iterrows():\n",
    "        if x2.Y == 1.0:\n",
    "            pos1.append(x2.X1)\n",
    "            pos2.append(x2.X2)\n",
    "        else:\n",
    "            neg1.append(x2.X1)\n",
    "            neg2.append(x2.X2)\n",
    "    pos1 = pd.DataFrame(pos1)\n",
    "    pos2 = pd.DataFrame(pos2)\n",
    "    neg1 = pd.DataFrame(neg1)\n",
    "    neg2 = pd.DataFrame(neg2)\n",
    "    plt.plot( pos1, pos2,'+', color='black',marker='+', linewidth=2)\n",
    "    #plt.plot(range(pos2.size),pos2,  '.',color='red')\n",
    "    plt.plot( neg1,neg2, '.', color='gold')\n",
    "    #plt.plot( range(neg2.size), neg2,'x',color='black')\n",
    "    \n",
    "plotGraph(df)"
   ]
  },
  {
   "cell_type": "code",
   "execution_count": 10,
   "metadata": {
    "collapsed": false
   },
   "outputs": [],
   "source": [
    "def sigmoid(z):\n",
    "    return(1 / (1 + np.exp(-z)))"
   ]
  },
  {
   "cell_type": "code",
   "execution_count": 11,
   "metadata": {
    "collapsed": false
   },
   "outputs": [
    {
     "data": {
      "text/plain": [
       "0.5"
      ]
     },
     "execution_count": 11,
     "metadata": {},
     "output_type": "execute_result"
    }
   ],
   "source": [
    "sigmoid(0)"
   ]
  },
  {
   "cell_type": "code",
   "execution_count": 12,
   "metadata": {
    "collapsed": false
   },
   "outputs": [],
   "source": [
    "def costFunction(theta, X, y):\n",
    "    m = y.size\n",
    "    h = sigmoid(X.dot(theta))\n",
    "    \n",
    "    J = -1*(1/m)*(np.log(h).T.dot(y)+np.log(1-h).T.dot(1-y))\n",
    "               \n",
    "    return(J)"
   ]
  },
  {
   "cell_type": "code",
   "execution_count": 13,
   "metadata": {
    "collapsed": false
   },
   "outputs": [],
   "source": [
    "def gradient(theta, X, y):\n",
    "    m = y.size\n",
    "    h = sigmoid(X.dot(theta.reshape(-1,1)))\n",
    "    \n",
    "    grad =(1/m)*X.T.dot(h-y)\n",
    "    return(grad.flatten())"
   ]
  },
  {
   "cell_type": "code",
   "execution_count": 14,
   "metadata": {
    "collapsed": false
   },
   "outputs": [],
   "source": [
    "from sklearn import linear_model"
   ]
  },
  {
   "cell_type": "code",
   "execution_count": 22,
   "metadata": {
    "collapsed": false,
    "scrolled": true
   },
   "outputs": [
    {
     "name": "stdout",
     "output_type": "stream",
     "text": [
      "0.91\n",
      "[0]\n"
     ]
    },
    {
     "name": "stderr",
     "output_type": "stream",
     "text": [
      "C:\\Users\\Revanth\\Anaconda\\lib\\site-packages\\sklearn\\utils\\validation.py:386: DeprecationWarning: Passing 1d arrays as data is deprecated in 0.17 and willraise ValueError in 0.19. Reshape your data either using X.reshape(-1, 1) if your data has a single feature or X.reshape(1, -1) if it contains a single sample.\n",
      "  DeprecationWarning)\n"
     ]
    }
   ],
   "source": [
    "clf = linear_model.LogisticRegression()\n",
    "clf.fit(X,y)\n",
    "#print clf.intercept_\n",
    "#print clf.coef_\n",
    "from sklearn.metrics import accuracy_score\n",
    "print accuracy_score(clf.predict(X), y)\n",
    "print clf.predict(np.array([1,75,30]))\n"
   ]
  },
  {
   "cell_type": "markdown",
   "metadata": {},
   "source": [
    "## Regularization"
   ]
  },
  {
   "cell_type": "code",
   "execution_count": 24,
   "metadata": {
    "collapsed": true
   },
   "outputs": [],
   "source": [
    "data = pd.read_csv('ex2data2.txt', delimiter=',',names=['X1','X2','Y'])"
   ]
  },
  {
   "cell_type": "code",
   "execution_count": 25,
   "metadata": {
    "collapsed": true
   },
   "outputs": [],
   "source": [
    "def loaddata(file, delimeter):\n",
    "    data = np.loadtxt(file, delimiter=delimeter)\n",
    "    print('Dimensions: ',data.shape)\n",
    "    print(data[1:6,:])\n",
    "    return(data)"
   ]
  },
  {
   "cell_type": "code",
   "execution_count": 26,
   "metadata": {
    "collapsed": false
   },
   "outputs": [
    {
     "name": "stdout",
     "output_type": "stream",
     "text": [
      "('Dimensions: ', (118L, 3L))\n",
      "[[-0.092742  0.68494   1.      ]\n",
      " [-0.21371   0.69225   1.      ]\n",
      " [-0.375     0.50219   1.      ]\n",
      " [-0.51325   0.46564   1.      ]\n",
      " [-0.52477   0.2098    1.      ]]\n"
     ]
    }
   ],
   "source": [
    "data2 = loaddata('ex2data2.txt', ',')"
   ]
  },
  {
   "cell_type": "code",
   "execution_count": 27,
   "metadata": {
    "collapsed": false
   },
   "outputs": [
    {
     "data": {
      "text/html": [
       "<div>\n",
       "<table border=\"1\" class=\"dataframe\">\n",
       "  <thead>\n",
       "    <tr style=\"text-align: right;\">\n",
       "      <th></th>\n",
       "      <th>X1</th>\n",
       "      <th>X2</th>\n",
       "      <th>Y</th>\n",
       "    </tr>\n",
       "  </thead>\n",
       "  <tbody>\n",
       "    <tr>\n",
       "      <th>0</th>\n",
       "      <td>0.051267</td>\n",
       "      <td>0.69956</td>\n",
       "      <td>1</td>\n",
       "    </tr>\n",
       "    <tr>\n",
       "      <th>1</th>\n",
       "      <td>-0.092742</td>\n",
       "      <td>0.68494</td>\n",
       "      <td>1</td>\n",
       "    </tr>\n",
       "    <tr>\n",
       "      <th>2</th>\n",
       "      <td>-0.213710</td>\n",
       "      <td>0.69225</td>\n",
       "      <td>1</td>\n",
       "    </tr>\n",
       "    <tr>\n",
       "      <th>3</th>\n",
       "      <td>-0.375000</td>\n",
       "      <td>0.50219</td>\n",
       "      <td>1</td>\n",
       "    </tr>\n",
       "    <tr>\n",
       "      <th>4</th>\n",
       "      <td>-0.513250</td>\n",
       "      <td>0.46564</td>\n",
       "      <td>1</td>\n",
       "    </tr>\n",
       "  </tbody>\n",
       "</table>\n",
       "</div>"
      ],
      "text/plain": [
       "         X1       X2  Y\n",
       "0  0.051267  0.69956  1\n",
       "1 -0.092742  0.68494  1\n",
       "2 -0.213710  0.69225  1\n",
       "3 -0.375000  0.50219  1\n",
       "4 -0.513250  0.46564  1"
      ]
     },
     "execution_count": 27,
     "metadata": {},
     "output_type": "execute_result"
    }
   ],
   "source": [
    "data.head()"
   ]
  },
  {
   "cell_type": "code",
   "execution_count": 28,
   "metadata": {
    "collapsed": false
   },
   "outputs": [
    {
     "name": "stdout",
     "output_type": "stream",
     "text": [
      "(118L, 3L)\n"
     ]
    }
   ],
   "source": [
    "print data2.shape \n",
    "#print data.ix[:,2].head()"
   ]
  },
  {
   "cell_type": "code",
   "execution_count": 30,
   "metadata": {
    "collapsed": false
   },
   "outputs": [
    {
     "data": {
      "image/png": "[encoded data removed]",
      "text/plain": [
       "<matplotlib.figure.Figure at 0xa5a7630>"
      ]
     },
     "metadata": {},
     "output_type": "display_data"
    }
   ],
   "source": [
    "plotGraph(data)"
   ]
  },
  {
   "cell_type": "code",
   "execution_count": 31,
   "metadata": {
    "collapsed": true
   },
   "outputs": [],
   "source": [
    "from sklearn.preprocessing import PolynomialFeatures"
   ]
  },
  {
   "cell_type": "code",
   "execution_count": 32,
   "metadata": {
    "collapsed": false
   },
   "outputs": [
    {
     "name": "stdout",
     "output_type": "stream",
     "text": [
      "(118L, 28L)\n",
      "(118L, 1L)\n",
      "[[  1.00000000e+00   5.12670000e-02   6.99560000e-01 ...,   6.29470940e-04\n",
      "    8.58939846e-03   1.17205992e-01]\n",
      " [  1.00000000e+00  -9.27420000e-02   6.84940000e-01 ...,   1.89305413e-03\n",
      "   -1.39810280e-02   1.03255971e-01]\n",
      " [  1.00000000e+00  -2.13710000e-01   6.92250000e-01 ...,   1.04882142e-02\n",
      "   -3.39734512e-02   1.10046893e-01]\n",
      " ..., \n",
      " [  1.00000000e+00  -4.84450000e-01   9.99270000e-01 ...,   2.34007252e-01\n",
      "   -4.82684337e-01   9.95627986e-01]\n",
      " [  1.00000000e+00  -6.33640000e-03   9.99270000e-01 ...,   4.00328554e-05\n",
      "   -6.31330588e-03   9.95627986e-01]\n",
      " [  1.00000000e+00   6.32650000e-01  -3.06120000e-02 ...,   3.51474517e-07\n",
      "   -1.70067777e-08   8.22905998e-10]]\n"
     ]
    }
   ],
   "source": [
    "poly = PolynomialFeatures(6)\n",
    "X = data2[:,0:2]\n",
    "XX = poly.fit_transform(X)\n",
    "print XX.shape\n",
    "y = np.c_[data2[:,2]]\n",
    "print y.shape\n",
    "print XX\n"
   ]
  },
  {
   "cell_type": "code",
   "execution_count": 33,
   "metadata": {
    "collapsed": false
   },
   "outputs": [],
   "source": [
    "def costFunctionReg(theta, reg, *args):\n",
    "    m = y.size\n",
    "    h = sigmoid(XX.dot(theta))\n",
    "    J = -1*(1./m)*(np.log(h).T.dot(y)+np.log(1-h).T.dot(1-y)) + (reg/(2*m))*np.sum(np.square(theta[1:]))\n",
    "    if np.isnan(J[0]):\n",
    "        return(np.inf)\n",
    "    return(J[0])\n",
    "    "
   ]
  },
  {
   "cell_type": "code",
   "execution_count": 34,
   "metadata": {
    "collapsed": true
   },
   "outputs": [],
   "source": [
    "\n",
    "def gradientReg(theta, reg, *args):\n",
    "    m = y.size\n",
    "    h = sigmoid(XX.dot(theta.reshape(-1,1)))\n",
    "      \n",
    "    grad = (1./m)*XX.T.dot(h-y) + (reg/m)*np.r_[[[0]],theta[1:].reshape(-1,1)]\n",
    "        \n",
    "    return(grad.flatten())  "
   ]
  },
  {
   "cell_type": "code",
   "execution_count": 35,
   "metadata": {
    "collapsed": false
   },
   "outputs": [
    {
     "name": "stdout",
     "output_type": "stream",
     "text": [
      "[ 0.  0.  0.  0.  0.  0.  0.  0.  0.  0.  0.  0.  0.  0.  0.  0.  0.  0.\n",
      "  0.  0.  0.  0.  0.  0.  0.  0.  0.  0.]\n",
      "[  8.47457627e-03   1.87880932e-02   7.77711864e-05   5.03446395e-02\n",
      "   1.15013308e-02   3.76648474e-02   1.83559872e-02   7.32393391e-03\n",
      "   8.19244468e-03   2.34764889e-02   3.93486234e-02   2.23923907e-03\n",
      "   1.28600503e-02   3.09593720e-03   3.93028171e-02   1.99707467e-02\n",
      "   4.32983232e-03   3.38643902e-03   5.83822078e-03   4.47629067e-03\n",
      "   3.10079849e-02   3.10312442e-02   1.09740238e-03   6.31570797e-03\n",
      "   4.08503006e-04   7.26504316e-03   1.37646175e-03   3.87936363e-02]\n"
     ]
    }
   ],
   "source": [
    "initial_theta = np.zeros(XX.shape[1])\n",
    "print initial_theta\n",
    "costFunctionReg(initial_theta, 1, XX, y)\n",
    "print gradientReg(initial_theta, 1, XX, y)"
   ]
  },
  {
   "cell_type": "code",
   "execution_count": 36,
   "metadata": {
    "collapsed": false
   },
   "outputs": [],
   "source": [
    "from sklearn import linear_model"
   ]
  },
  {
   "cell_type": "code",
   "execution_count": 37,
   "metadata": {
    "collapsed": false
   },
   "outputs": [
    {
     "name": "stdout",
     "output_type": "stream",
     "text": [
      "0.830508474576\n"
     ]
    }
   ],
   "source": [
    "logi = linear_model.LogisticRegression()\n",
    "logi.fit(XX,y.ravel())\n",
    "p =logi.predict(XX)\n",
    "from sklearn.metrics import accuracy_score\n",
    "print accuracy_score(p,y)\n",
    "from scipy.optimize import fmin_bfgs"
   ]
  }
 ],
 "metadata": {
  "kernelspec": {
   "display_name": "Python 2",
   "language": "python",
   "name": "python2"
  },
  "language_info": {
   "codemirror_mode": {
    "name": "ipython",
    "version": 2
   },
   "file_extension": ".py",
   "mimetype": "text/x-python",
   "name": "python",
   "nbconvert_exporter": "python",
   "pygments_lexer": "ipython2",
   "version": "2.7.10"
  }
 },
 "nbformat": 4,
 "nbformat_minor": 0
}
