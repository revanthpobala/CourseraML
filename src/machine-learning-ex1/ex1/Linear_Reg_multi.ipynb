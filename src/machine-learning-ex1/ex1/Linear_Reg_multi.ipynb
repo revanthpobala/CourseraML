{
 "cells": [
  {
   "cell_type": "code",
   "execution_count": 1,
   "metadata": {
    "collapsed": true
   },
   "outputs": [],
   "source": [
    "%matplotlib inline"
   ]
  },
  {
   "cell_type": "code",
   "execution_count": 2,
   "metadata": {
    "collapsed": true
   },
   "outputs": [],
   "source": [
    "import pandas as pd"
   ]
  },
  {
   "cell_type": "code",
   "execution_count": 3,
   "metadata": {
    "collapsed": true
   },
   "outputs": [],
   "source": [
    "import numpy as np"
   ]
  },
  {
   "cell_type": "code",
   "execution_count": 4,
   "metadata": {
    "collapsed": false
   },
   "outputs": [],
   "source": [
    "df = pd.read_csv('ex1data2.txt', delimiter=',', header=0)"
   ]
  },
  {
   "cell_type": "code",
   "execution_count": 14,
   "metadata": {
    "collapsed": false
   },
   "outputs": [
    {
     "data": {
      "text/plain": [
       "X1      3000\n",
       "X2         4\n",
       "Y     539900\n",
       "Name: 4, dtype: int64"
      ]
     },
     "execution_count": 14,
     "metadata": {},
     "output_type": "execute_result"
    }
   ],
   "source": [
    "df.ix[]"
   ]
  },
  {
   "cell_type": "code",
   "execution_count": 5,
   "metadata": {
    "collapsed": false,
    "scrolled": true
   },
   "outputs": [
    {
     "data": {
      "text/html": [
       "<div>\n",
       "<table border=\"1\" class=\"dataframe\">\n",
       "  <thead>\n",
       "    <tr style=\"text-align: right;\">\n",
       "      <th></th>\n",
       "      <th>X1</th>\n",
       "      <th>X2</th>\n",
       "      <th>Y</th>\n",
       "    </tr>\n",
       "  </thead>\n",
       "  <tbody>\n",
       "    <tr>\n",
       "      <th>0</th>\n",
       "      <td>2104</td>\n",
       "      <td>3</td>\n",
       "      <td>399900</td>\n",
       "    </tr>\n",
       "    <tr>\n",
       "      <th>1</th>\n",
       "      <td>1600</td>\n",
       "      <td>3</td>\n",
       "      <td>329900</td>\n",
       "    </tr>\n",
       "    <tr>\n",
       "      <th>2</th>\n",
       "      <td>2400</td>\n",
       "      <td>3</td>\n",
       "      <td>369000</td>\n",
       "    </tr>\n",
       "    <tr>\n",
       "      <th>3</th>\n",
       "      <td>1416</td>\n",
       "      <td>2</td>\n",
       "      <td>232000</td>\n",
       "    </tr>\n",
       "    <tr>\n",
       "      <th>4</th>\n",
       "      <td>3000</td>\n",
       "      <td>4</td>\n",
       "      <td>539900</td>\n",
       "    </tr>\n",
       "  </tbody>\n",
       "</table>\n",
       "</div>"
      ],
      "text/plain": [
       "     X1  X2       Y\n",
       "0  2104   3  399900\n",
       "1  1600   3  329900\n",
       "2  2400   3  369000\n",
       "3  1416   2  232000\n",
       "4  3000   4  539900"
      ]
     },
     "execution_count": 5,
     "metadata": {},
     "output_type": "execute_result"
    }
   ],
   "source": [
    "df.head()"
   ]
  },
  {
   "cell_type": "code",
   "execution_count": 6,
   "metadata": {
    "collapsed": false
   },
   "outputs": [
    {
     "name": "stdout",
     "output_type": "stream",
     "text": [
      "2000.68085106\n",
      "3.17021276596\n"
     ]
    }
   ],
   "source": [
    "m_x1= np.mean(df['X1'])\n",
    "m_x2 =np.mean(df['X2'])\n",
    "print m_x1\n",
    "print m_x2"
   ]
  },
  {
   "cell_type": "code",
   "execution_count": 9,
   "metadata": {
    "collapsed": false
   },
   "outputs": [
    {
     "data": {
      "image/png": "[encoded data removed]",
      "text/plain": [
       "<matplotlib.figure.Figure at 0x83df5c0>"
      ]
     },
     "metadata": {},
     "output_type": "display_data"
    },
    {
     "data": {
      "image/png": "[encoded data removed]",
      "text/plain": [
       "<matplotlib.figure.Figure at 0x83df588>"
      ]
     },
     "metadata": {},
     "output_type": "display_data"
    }
   ],
   "source": [
    "plt.plot(range(len(df['X2'])),df['X1'], '*')\n",
    "plt.show()\n",
    "plt.plot( range(len(df['X2'])),df['X2'], 'x')\n",
    "plt.show()\n"
   ]
  },
  {
   "cell_type": "code",
   "execution_count": 10,
   "metadata": {
    "collapsed": false
   },
   "outputs": [
    {
     "name": "stdout",
     "output_type": "stream",
     "text": [
      "786.202618743\n",
      "0.752842809062\n"
     ]
    }
   ],
   "source": [
    "std_x1 = np.std(df['X1'])\n",
    "print std_x1\n",
    "std_x2 = np.std(df['X2'])\n",
    "print std_x2"
   ]
  },
  {
   "cell_type": "code",
   "execution_count": 11,
   "metadata": {
    "collapsed": false
   },
   "outputs": [
    {
     "name": "stdout",
     "output_type": "stream",
     "text": [
      "0    0.131415\n",
      "1   -0.509641\n",
      "2    0.507909\n",
      "3   -0.743677\n",
      "4    1.271071\n",
      "Name: X1, dtype: float64\n",
      "0   -0.226093\n",
      "1   -0.226093\n",
      "2   -0.226093\n",
      "3   -1.554392\n",
      "4    1.102205\n",
      "Name: X2, dtype: float64\n"
     ]
    }
   ],
   "source": [
    "rescale_x1 = (df['X1'] - m_x1)/std_x1\n",
    "print rescale_x1.head()\n",
    "rescale_x2 = (df['X2'] - m_x2)/std_x2\n",
    "print rescale_x2.head()"
   ]
  },
  {
   "cell_type": "code",
   "execution_count": 12,
   "metadata": {
    "collapsed": false
   },
   "outputs": [],
   "source": [
    "I = np.ones(len(rescale_x1))\n",
    "X = np.matrix([I, rescale_x1, rescale_x2])"
   ]
  },
  {
   "cell_type": "code",
   "execution_count": 13,
   "metadata": {
    "collapsed": false
   },
   "outputs": [],
   "source": [
    "Y = np.matrix(df['Y'])"
   ]
  },
  {
   "cell_type": "code",
   "execution_count": 14,
   "metadata": {
    "collapsed": false
   },
   "outputs": [
    {
     "name": "stdout",
     "output_type": "stream",
     "text": [
      "[[399900 329900 369000 232000 539900 299900 314900 198999 212000 242500\n",
      "  239999 347000 329999 699900 259900 449900 299900 199900 499998 599000\n",
      "  252900 255000 242900 259900 573900 249900 464500 469000 475000 299900\n",
      "  349900 169900 314900 579900 285900 249900 229900 345000 549000 287000\n",
      "  368500 329900 314000 299000 179900 299900 239500]]\n"
     ]
    }
   ],
   "source": [
    "print Y"
   ]
  },
  {
   "cell_type": "code",
   "execution_count": 15,
   "metadata": {
    "collapsed": false
   },
   "outputs": [],
   "source": [
    "from matplotlib import pyplot as plt"
   ]
  },
  {
   "cell_type": "code",
   "execution_count": 16,
   "metadata": {
    "collapsed": false
   },
   "outputs": [],
   "source": [
    "from sklearn import linear_model\n"
   ]
  },
  {
   "cell_type": "code",
   "execution_count": 17,
   "metadata": {
    "collapsed": true
   },
   "outputs": [],
   "source": [
    "X_transpose = X.transpose()"
   ]
  },
  {
   "cell_type": "code",
   "execution_count": 18,
   "metadata": {
    "collapsed": false
   },
   "outputs": [
    {
     "name": "stdout",
     "output_type": "stream",
     "text": [
      "[[ 14529578.06640625    573159.90321455  -5804564.34864526]]\n"
     ]
    }
   ],
   "source": [
    "theta = np.matrix((X_transpose*X)).I * X_transpose\n",
    "print Y*theta"
   ]
  },
  {
   "cell_type": "code",
   "execution_count": 22,
   "metadata": {
    "collapsed": true
   },
   "outputs": [],
   "source": [
    "regr = linear_model.SGDRegressor()"
   ]
  },
  {
   "cell_type": "code",
   "execution_count": 24,
   "metadata": {
    "collapsed": false
   },
   "outputs": [
    {
     "name": "stdout",
     "output_type": "stream",
     "text": [
      "[[  1.00000000e+00   1.00000000e+00   1.00000000e+00   1.00000000e+00\n",
      "    1.00000000e+00   1.00000000e+00   1.00000000e+00   1.00000000e+00\n",
      "    1.00000000e+00   1.00000000e+00   1.00000000e+00   1.00000000e+00\n",
      "    1.00000000e+00   1.00000000e+00   1.00000000e+00   1.00000000e+00\n",
      "    1.00000000e+00   1.00000000e+00   1.00000000e+00   1.00000000e+00\n",
      "    1.00000000e+00   1.00000000e+00   1.00000000e+00   1.00000000e+00\n",
      "    1.00000000e+00   1.00000000e+00   1.00000000e+00   1.00000000e+00\n",
      "    1.00000000e+00   1.00000000e+00   1.00000000e+00   1.00000000e+00\n",
      "    1.00000000e+00   1.00000000e+00   1.00000000e+00   1.00000000e+00\n",
      "    1.00000000e+00   1.00000000e+00   1.00000000e+00   1.00000000e+00\n",
      "    1.00000000e+00   1.00000000e+00   1.00000000e+00   1.00000000e+00\n",
      "    1.00000000e+00   1.00000000e+00   1.00000000e+00]\n",
      " [  1.31415422e-01  -5.09640698e-01   5.07908699e-01  -7.43677059e-01\n",
      "    1.27107075e+00  -1.99450507e-02  -5.93588523e-01  -7.29685755e-01\n",
      "   -7.89466782e-01  -6.44465993e-01  -7.71822042e-02  -8.65999486e-04\n",
      "   -1.40779041e-01   3.15099326e+00  -9.31923697e-01   3.80715024e-01\n",
      "   -8.65782986e-01  -9.72625673e-01   7.73743478e-01   1.31050078e+00\n",
      "   -2.97227261e-01  -1.43322915e-01  -5.04552951e-01  -4.91995958e-02\n",
      "    2.40309445e+00  -1.14560907e+00  -6.90255715e-01   6.68172729e-01\n",
      "    2.53521350e-01   8.09357707e-01  -2.05647815e-01  -1.27280274e+00\n",
      "    5.00114703e-02   1.44532608e+00  -2.41262044e-01  -7.16966387e-01\n",
      "   -9.68809863e-01   1.67029651e-01   2.81647389e+00   2.05187753e-01\n",
      "   -4.28236746e-01   3.01854946e-01   7.20322135e-01  -1.01841540e+00\n",
      "   -1.46104938e+00  -1.89112638e-01  -1.01459959e+00]\n",
      " [ -2.26093368e-01  -2.26093368e-01  -2.26093368e-01  -1.55439190e+00\n",
      "    1.10220517e+00   1.10220517e+00  -2.26093368e-01  -2.26093368e-01\n",
      "   -2.26093368e-01  -2.26093368e-01   1.10220517e+00  -2.26093368e-01\n",
      "   -2.26093368e-01   2.43050370e+00  -2.26093368e-01   1.10220517e+00\n",
      "   -1.55439190e+00  -2.26093368e-01   1.10220517e+00   1.10220517e+00\n",
      "   -2.26093368e-01  -1.55439190e+00  -2.26093368e-01   1.10220517e+00\n",
      "   -2.26093368e-01  -2.26093368e-01  -2.26093368e-01  -2.26093368e-01\n",
      "   -2.26093368e-01  -2.26093368e-01  -1.55439190e+00  -2.88269044e+00\n",
      "    1.10220517e+00  -2.26093368e-01   1.10220517e+00  -2.26093368e-01\n",
      "   -2.26093368e-01   1.10220517e+00   1.10220517e+00   1.10220517e+00\n",
      "   -1.55439190e+00  -2.26093368e-01   1.10220517e+00  -2.26093368e-01\n",
      "   -1.55439190e+00   1.10220517e+00  -2.26093368e-01]]\n"
     ]
    }
   ],
   "source": []
  },
  {
   "cell_type": "code",
   "execution_count": null,
   "metadata": {
    "collapsed": true
   },
   "outputs": [],
   "source": []
  }
 ],
 "metadata": {
  "kernelspec": {
   "display_name": "Python 2",
   "language": "python",
   "name": "python2"
  },
  "language_info": {
   "codemirror_mode": {
    "name": "ipython",
    "version": 2
   },
   "file_extension": ".py",
   "mimetype": "text/x-python",
   "name": "python",
   "nbconvert_exporter": "python",
   "pygments_lexer": "ipython2",
   "version": "2.7.11"
  }
 },
 "nbformat": 4,
 "nbformat_minor": 0
}
